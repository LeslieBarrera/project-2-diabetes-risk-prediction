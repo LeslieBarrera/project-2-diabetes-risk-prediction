{
 "cells": [
  {
   "cell_type": "code",
   "execution_count": 6,
   "metadata": {},
   "outputs": [
    {
     "name": "stdout",
     "output_type": "stream",
     "text": [
      "Forma del dataset cargado: (224143, 22)\n",
      "Forma del conjunto de entrenamiento (X_train): (179314, 21)\n",
      "Forma del conjunto de entrenamiento (y_train): (179314,)\n",
      "Forma del conjunto de prueba (X_test): (44829, 21)\n",
      "Forma del conjunto de prueba (y_test): (44829,)\n"
     ]
    }
   ],
   "source": [
    "# Importar las librerías necesarias\n",
    "import pandas as pd\n",
    "from sklearn.model_selection import train_test_split\n",
    "\n",
    "# Cargar el dataset procesado desde un archivo CSV\n",
    "input_file_path = \"cleaned_and_scaled_dataset.csv\"  # Cambiar por la ruta del archivo correcto si es necesario\n",
    "df = pd.read_csv(input_file_path)\n",
    "\n",
    "# Verificar las dimensiones del dataset cargado\n",
    "print(f\"Forma del dataset cargado: {df.shape}\")\n",
    "\n",
    "# Definir la columna objetivo ('diabetes_012') y las características (features)\n",
    "y = df['diabetes_012']  # Columna objetivo\n",
    "X = df.drop(columns=['diabetes_012'])  # El resto de las columnas son características\n",
    "\n",
    "# Dividir los datos en conjuntos de entrenamiento y prueba (80% train, 20% test)\n",
    "X_train, X_test, y_train, y_test = train_test_split(X, y, test_size=0.2, random_state=42, stratify=y)\n",
    "\n",
    "# Imprimir las formas de los conjuntos resultantes\n",
    "print(f\"Forma del conjunto de entrenamiento (X_train): {X_train.shape}\")\n",
    "print(f\"Forma del conjunto de entrenamiento (y_train): {y_train.shape}\")\n",
    "print(f\"Forma del conjunto de prueba (X_test): {X_test.shape}\")\n",
    "print(f\"Forma del conjunto de prueba (y_test): {y_test.shape}\")\n"
   ]
  },
  {
   "cell_type": "code",
   "execution_count": 8,
   "metadata": {},
   "outputs": [
    {
     "name": "stdout",
     "output_type": "stream",
     "text": [
      "Matriz de Confusión:\n",
      "[[35950    51  1317]\n",
      " [  795     0    96]\n",
      " [ 5490     5  1125]]\n",
      "\n",
      "Reporte de Clasificación:\n",
      "              precision    recall  f1-score   support\n",
      "\n",
      "         0.0       0.85      0.96      0.90     37318\n",
      "         1.0       0.00      0.00      0.00       891\n",
      "         2.0       0.44      0.17      0.25      6620\n",
      "\n",
      "    accuracy                           0.83     44829\n",
      "   macro avg       0.43      0.38      0.38     44829\n",
      "weighted avg       0.77      0.83      0.79     44829\n",
      "\n",
      "\n",
      "Precisión General del Modelo:\n",
      "0.83\n"
     ]
    }
   ],
   "source": [
    "# Importar la librería necesaria para Random Forest\n",
    "from sklearn.ensemble import RandomForestClassifier\n",
    "from sklearn.metrics import classification_report, confusion_matrix, accuracy_score\n",
    "\n",
    "# Instanciar el modelo Random Forest\n",
    "model = RandomForestClassifier(random_state=42, n_estimators=100, max_depth=None)\n",
    "\n",
    "# Entrenar el modelo con los datos de entrenamiento\n",
    "model.fit(X_train, y_train)\n",
    "\n",
    "# Realizar predicciones en el conjunto de prueba\n",
    "y_pred = model.predict(X_test)\n",
    "\n",
    "# Evaluar el modelo\n",
    "print(\"Matriz de Confusión:\")\n",
    "print(confusion_matrix(y_test, y_pred))\n",
    "\n",
    "print(\"\\nReporte de Clasificación:\")\n",
    "print(classification_report(y_test, y_pred))\n",
    "\n",
    "print(\"\\nPrecisión General del Modelo:\")\n",
    "print(f\"{accuracy_score(y_test, y_pred):.2f}\")\n"
   ]
  },
  {
   "cell_type": "code",
   "execution_count": 9,
   "metadata": {},
   "outputs": [
    {
     "name": "stdout",
     "output_type": "stream",
     "text": [
      "Matriz de Confusión:\n",
      "[[36511     0   807]\n",
      " [  811     0    80]\n",
      " [ 5533     0  1087]]\n",
      "\n",
      "Reporte de Clasificación:\n",
      "              precision    recall  f1-score   support\n",
      "\n",
      "         0.0       0.85      0.98      0.91     37318\n",
      "         1.0       0.00      0.00      0.00       891\n",
      "         2.0       0.55      0.16      0.25      6620\n",
      "\n",
      "    accuracy                           0.84     44829\n",
      "   macro avg       0.47      0.38      0.39     44829\n",
      "weighted avg       0.79      0.84      0.80     44829\n",
      "\n",
      "\n",
      "Precisión General del Modelo:\n",
      "0.84\n"
     ]
    }
   ],
   "source": [
    "# Importar la librería necesaria para XGBoost\n",
    "from xgboost import XGBClassifier\n",
    "from sklearn.metrics import classification_report, confusion_matrix, accuracy_score\n",
    "\n",
    "# Instanciar el modelo XGBoost\n",
    "model = XGBClassifier(\n",
    "    objective='multi:softmax',  # Clasificación multiclase con predicción de etiquetas\n",
    "    num_class=3,               # Número de clases en la variable dependiente\n",
    "    eval_metric='mlogloss',    # Métrica de evaluación (log-loss multiclase)\n",
    "    use_label_encoder=False,   # Desactiva codificación automática de etiquetas (obsoleto)\n",
    "    random_state=42,\n",
    "    n_estimators=100,          # Número de árboles\n",
    "    max_depth=6,               # Profundidad máxima del árbol\n",
    "    learning_rate=0.1          # Tasa de aprendizaje\n",
    ")\n",
    "\n",
    "# Entrenar el modelo con los datos de entrenamiento\n",
    "model.fit(X_train, y_train)\n",
    "\n",
    "# Realizar predicciones en el conjunto de prueba\n",
    "y_pred = model.predict(X_test)\n",
    "\n",
    "# Evaluar el modelo\n",
    "print(\"Matriz de Confusión:\")\n",
    "print(confusion_matrix(y_test, y_pred))\n",
    "\n",
    "print(\"\\nReporte de Clasificación:\")\n",
    "print(classification_report(y_test, y_pred))\n",
    "\n",
    "print(\"\\nPrecisión General del Modelo:\")\n",
    "print(f\"{accuracy_score(y_test, y_pred):.2f}\")\n"
   ]
  },
  {
   "cell_type": "code",
   "execution_count": 11,
   "metadata": {},
   "outputs": [
    {
     "name": "stdout",
     "output_type": "stream",
     "text": [
      "Matriz de Confusión:\n",
      "[[35539    91  1688]\n",
      " [  782     3   106]\n",
      " [ 5417    11  1192]]\n",
      "\n",
      "Reporte de Clasificación:\n",
      "              precision    recall  f1-score   support\n",
      "\n",
      "         0.0       0.85      0.95      0.90     37318\n",
      "         1.0       0.03      0.00      0.01       891\n",
      "         2.0       0.40      0.18      0.25      6620\n",
      "\n",
      "    accuracy                           0.82     44829\n",
      "   macro avg       0.43      0.38      0.38     44829\n",
      "weighted avg       0.77      0.82      0.79     44829\n",
      "\n",
      "\n",
      "Precisión General del Modelo:\n",
      "0.82\n"
     ]
    }
   ],
   "source": [
    "# Importar la librería necesaria para Extra Trees\n",
    "from sklearn.ensemble import ExtraTreesClassifier\n",
    "from sklearn.metrics import classification_report, confusion_matrix, accuracy_score\n",
    "\n",
    "# Instanciar el modelo Extra Trees\n",
    "model = ExtraTreesClassifier(\n",
    "    n_estimators=100,       # Número de árboles\n",
    "    max_depth=None,         # Profundidad máxima de los árboles (None = sin límite)\n",
    "    random_state=42,        # Semilla para reproducibilidad\n",
    "    criterion='gini',       # Criterio para dividir nodos ('gini' o 'entropy')\n",
    "    n_jobs=-1               # Utilizar todos los núcleos disponibles para acelerar\n",
    ")\n",
    "\n",
    "# Entrenar el modelo con los datos de entrenamiento\n",
    "model.fit(X_train, y_train)\n",
    "\n",
    "# Realizar predicciones en el conjunto de prueba\n",
    "y_pred = model.predict(X_test)\n",
    "\n",
    "# Evaluar el modelo\n",
    "print(\"Matriz de Confusión:\")\n",
    "print(confusion_matrix(y_test, y_pred))\n",
    "\n",
    "print(\"\\nReporte de Clasificación:\")\n",
    "print(classification_report(y_test, y_pred))\n",
    "\n",
    "print(\"\\nPrecisión General del Modelo:\")\n",
    "print(f\"{accuracy_score(y_test, y_pred):.2f}\")\n"
   ]
  }
 ],
 "metadata": {
  "kernelspec": {
   "display_name": "base",
   "language": "python",
   "name": "python3"
  },
  "language_info": {
   "codemirror_mode": {
    "name": "ipython",
    "version": 3
   },
   "file_extension": ".py",
   "mimetype": "text/x-python",
   "name": "python",
   "nbconvert_exporter": "python",
   "pygments_lexer": "ipython3",
   "version": "3.12.4"
  }
 },
 "nbformat": 4,
 "nbformat_minor": 2
}
